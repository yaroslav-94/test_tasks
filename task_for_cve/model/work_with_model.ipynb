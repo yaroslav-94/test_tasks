{
 "cells": [
  {
   "cell_type": "code",
   "execution_count": 11,
   "id": "1a25ba99",
   "metadata": {},
   "outputs": [
    {
     "data": {
      "text/plain": [
       "{'breed': 'Dingo'}"
      ]
     },
     "execution_count": 11,
     "metadata": {},
     "output_type": "execute_result"
    }
   ],
   "source": [
    "from PIL import Image\n",
    "from torchvision import transforms\n",
    "import torch\n",
    "from PIL import Image\n",
    "import numpy as np\n",
    "import torch.nn as nn\n",
    "from collections import OrderedDict\n",
    "from torch.utils.data import DataLoader\n",
    "from torchvision import datasets, models, transforms\n",
    "\n",
    "\n",
    "RESCALE_SIZE = 224\n",
    "DEVICE = torch.device('cuda') if torch.cuda.is_available() else torch.device('cpu') \n",
    "PATH_MODEL = r'C:\\Users\\user\\PycharmProjects\\flask_test\\flask_service\\model_resnet34_7ep.pt'\n",
    "PATH_IMAGE = r'C:\\Users\\user\\PycharmProjects\\flask_test\\test_files\\n02086240_10604.JPEG'\n",
    "\n",
    "NEU_MODEL = []\n",
    "DICT_BREEDS = {\n",
    "    0: 'Australian terrier',\n",
    "    1: 'Beagle',\n",
    "    2: 'Border terrier',\n",
    "    3: 'Dingo',\n",
    "    4: 'English foxhound',\n",
    "    5: 'Golden retriever',\n",
    "    6: 'Old English sheepdog',\n",
    "    7: 'Rhodesian ridgeback',\n",
    "    8: 'Samoyed',\n",
    "    9: 'Shih-Tzu'\n",
    "}\n",
    "\n",
    "# Download model\n",
    "def __download_model(path):\n",
    "    if NEU_MODEL == []:\n",
    "        NEU_MODEL.append(models.resnet34(pretrained=True))\n",
    "        NEU_MODEL[0].fc = nn.Sequential(OrderedDict([\n",
    "            ('batch_norm', nn.BatchNorm1d(512)),\n",
    "            ('drop1', nn.Dropout(p=0.5)),\n",
    "            ('linear1', nn.Linear(512, 10))\n",
    "            ]))\n",
    "        NEU_MODEL[0].load_state_dict(torch.load(path))\n",
    "        NEU_MODEL[0].eval()\n",
    "        NEU_MODEL[0].to(DEVICE)\n",
    "\n",
    "# Prepare image from input path\n",
    "def __prepare_data(path=None):\n",
    "    image = Image.open(path).convert('RGB')\n",
    "    tfms = transforms.Compose([\n",
    "        transforms.Resize(RESCALE_SIZE),\n",
    "        transforms.ToTensor(),\n",
    "        transforms.Normalize([0.485, 0.456, 0.406], [0.229, 0.224, 0.225])])\n",
    "    img_tensor = tfms(image).to('cuda').unsqueeze(0)\n",
    "    return img_tensor\n",
    "\n",
    "# Count score\n",
    "def __count_score(img_path):\n",
    "    __download_model(path=PATH_MODEL)\n",
    "    image = __prepare_data(path=img_path)\n",
    "    output = NEU_MODEL[0](image).cpu()\n",
    "    \n",
    "    # If the difference between the values is less than the threshold, then this indicates that the image does \n",
    "    # not contain the desired dog breeds. (In this simple way, I'm trying to reduce the likelihood of neural \n",
    "    # network cheating). The threshold is needed due to the use of the softmax-function.\n",
    "    np_arr = output.detach().numpy()\n",
    "    if np.max(np_arr) - np.min(np_arr) <= 300.:\n",
    "        return {'score': 'Very noisy image. No dog find!'}\n",
    "    \n",
    "    answer = nn.functional.softmax(output.detach(), dim=-1).numpy()\n",
    "    index = np.argmax(answer)\n",
    "    return {'breed': DICT_BREEDS[index]}\n",
    "\n",
    "    \n",
    "NOISE = r'C:\\Users\\user\\PycharmProjects\\flask_test\\test_service\\test_files\\noise.jpg'   \n",
    "PATH_IMAGE = r'C:\\Users\\user\\PycharmProjects\\flask_test\\test_service\\test_files\\n02086240_10604.JPEG'\n",
    "__count_score(img_path=NOISE)"
   ]
  },
  {
   "cell_type": "code",
   "execution_count": 7,
   "id": "b9996956",
   "metadata": {},
   "outputs": [
    {
     "data": {
      "text/plain": [
       "{'breed': 'Old English sheepdog'}"
      ]
     },
     "execution_count": 7,
     "metadata": {},
     "output_type": "execute_result"
    }
   ],
   "source": [
    "__count_score(img_path=PATH_IMAGE)"
   ]
  },
  {
   "cell_type": "code",
   "execution_count": 8,
   "id": "e5b4798e",
   "metadata": {},
   "outputs": [
    {
     "ename": "FileNotFoundError",
     "evalue": "[Errno 2] No such file or directory: 'C:\\\\Users\\\\user\\\\PycharmProjects\\\\flask_test\\\\test_files\\\\ILSVRC2012_val_00020379.JPEG'",
     "output_type": "error",
     "traceback": [
      "\u001b[1;31m---------------------------------------------------------------------------\u001b[0m",
      "\u001b[1;31mFileNotFoundError\u001b[0m                         Traceback (most recent call last)",
      "\u001b[1;32m<ipython-input-8-0086ef4ba547>\u001b[0m in \u001b[0;36m<module>\u001b[1;34m\u001b[0m\n\u001b[0;32m      1\u001b[0m \u001b[0mn\u001b[0m \u001b[1;33m=\u001b[0m \u001b[1;34mr'C:\\Users\\user\\PycharmProjects\\flask_test\\test_files\\ILSVRC2012_val_00020379.JPEG'\u001b[0m\u001b[1;33m\u001b[0m\u001b[1;33m\u001b[0m\u001b[0m\n\u001b[1;32m----> 2\u001b[1;33m \u001b[0m__count_score\u001b[0m\u001b[1;33m(\u001b[0m\u001b[0mimg_path\u001b[0m\u001b[1;33m=\u001b[0m\u001b[0mn\u001b[0m\u001b[1;33m)\u001b[0m\u001b[1;33m\u001b[0m\u001b[1;33m\u001b[0m\u001b[0m\n\u001b[0m",
      "\u001b[1;32m<ipython-input-6-168fee6966b8>\u001b[0m in \u001b[0;36m__count_score\u001b[1;34m(img_path)\u001b[0m\n\u001b[0;32m     55\u001b[0m \u001b[1;32mdef\u001b[0m \u001b[0m__count_score\u001b[0m\u001b[1;33m(\u001b[0m\u001b[0mimg_path\u001b[0m\u001b[1;33m)\u001b[0m\u001b[1;33m:\u001b[0m\u001b[1;33m\u001b[0m\u001b[1;33m\u001b[0m\u001b[0m\n\u001b[0;32m     56\u001b[0m     \u001b[0m__download_model\u001b[0m\u001b[1;33m(\u001b[0m\u001b[0mpath\u001b[0m\u001b[1;33m=\u001b[0m\u001b[0mPATH_MODEL\u001b[0m\u001b[1;33m)\u001b[0m\u001b[1;33m\u001b[0m\u001b[1;33m\u001b[0m\u001b[0m\n\u001b[1;32m---> 57\u001b[1;33m     \u001b[0mimage\u001b[0m \u001b[1;33m=\u001b[0m \u001b[0m__prepare_data\u001b[0m\u001b[1;33m(\u001b[0m\u001b[0mpath\u001b[0m\u001b[1;33m=\u001b[0m\u001b[0mimg_path\u001b[0m\u001b[1;33m)\u001b[0m\u001b[1;33m\u001b[0m\u001b[1;33m\u001b[0m\u001b[0m\n\u001b[0m\u001b[0;32m     58\u001b[0m     \u001b[0moutput\u001b[0m \u001b[1;33m=\u001b[0m \u001b[0mNEU_MODEL\u001b[0m\u001b[1;33m[\u001b[0m\u001b[1;36m0\u001b[0m\u001b[1;33m]\u001b[0m\u001b[1;33m(\u001b[0m\u001b[0mimage\u001b[0m\u001b[1;33m)\u001b[0m\u001b[1;33m.\u001b[0m\u001b[0mcpu\u001b[0m\u001b[1;33m(\u001b[0m\u001b[1;33m)\u001b[0m\u001b[1;33m\u001b[0m\u001b[1;33m\u001b[0m\u001b[0m\n\u001b[0;32m     59\u001b[0m \u001b[1;33m\u001b[0m\u001b[0m\n",
      "\u001b[1;32m<ipython-input-6-168fee6966b8>\u001b[0m in \u001b[0;36m__prepare_data\u001b[1;34m(path)\u001b[0m\n\u001b[0;32m     44\u001b[0m \u001b[1;31m# Prepare image from input path\u001b[0m\u001b[1;33m\u001b[0m\u001b[1;33m\u001b[0m\u001b[1;33m\u001b[0m\u001b[0m\n\u001b[0;32m     45\u001b[0m \u001b[1;32mdef\u001b[0m \u001b[0m__prepare_data\u001b[0m\u001b[1;33m(\u001b[0m\u001b[0mpath\u001b[0m\u001b[1;33m=\u001b[0m\u001b[1;32mNone\u001b[0m\u001b[1;33m)\u001b[0m\u001b[1;33m:\u001b[0m\u001b[1;33m\u001b[0m\u001b[1;33m\u001b[0m\u001b[0m\n\u001b[1;32m---> 46\u001b[1;33m     \u001b[0mimage\u001b[0m \u001b[1;33m=\u001b[0m \u001b[0mImage\u001b[0m\u001b[1;33m.\u001b[0m\u001b[0mopen\u001b[0m\u001b[1;33m(\u001b[0m\u001b[0mpath\u001b[0m\u001b[1;33m)\u001b[0m\u001b[1;33m.\u001b[0m\u001b[0mconvert\u001b[0m\u001b[1;33m(\u001b[0m\u001b[1;34m'RGB'\u001b[0m\u001b[1;33m)\u001b[0m\u001b[1;33m\u001b[0m\u001b[1;33m\u001b[0m\u001b[0m\n\u001b[0m\u001b[0;32m     47\u001b[0m     tfms = transforms.Compose([\n\u001b[0;32m     48\u001b[0m         \u001b[0mtransforms\u001b[0m\u001b[1;33m.\u001b[0m\u001b[0mResize\u001b[0m\u001b[1;33m(\u001b[0m\u001b[0mRESCALE_SIZE\u001b[0m\u001b[1;33m)\u001b[0m\u001b[1;33m,\u001b[0m\u001b[1;33m\u001b[0m\u001b[1;33m\u001b[0m\u001b[0m\n",
      "\u001b[1;32m~\\anaconda3\\lib\\site-packages\\PIL\\Image.py\u001b[0m in \u001b[0;36mopen\u001b[1;34m(fp, mode, formats)\u001b[0m\n\u001b[0;32m   2973\u001b[0m \u001b[1;33m\u001b[0m\u001b[0m\n\u001b[0;32m   2974\u001b[0m     \u001b[1;32mif\u001b[0m \u001b[0mfilename\u001b[0m\u001b[1;33m:\u001b[0m\u001b[1;33m\u001b[0m\u001b[1;33m\u001b[0m\u001b[0m\n\u001b[1;32m-> 2975\u001b[1;33m         \u001b[0mfp\u001b[0m \u001b[1;33m=\u001b[0m \u001b[0mbuiltins\u001b[0m\u001b[1;33m.\u001b[0m\u001b[0mopen\u001b[0m\u001b[1;33m(\u001b[0m\u001b[0mfilename\u001b[0m\u001b[1;33m,\u001b[0m \u001b[1;34m\"rb\"\u001b[0m\u001b[1;33m)\u001b[0m\u001b[1;33m\u001b[0m\u001b[1;33m\u001b[0m\u001b[0m\n\u001b[0m\u001b[0;32m   2976\u001b[0m         \u001b[0mexclusive_fp\u001b[0m \u001b[1;33m=\u001b[0m \u001b[1;32mTrue\u001b[0m\u001b[1;33m\u001b[0m\u001b[1;33m\u001b[0m\u001b[0m\n\u001b[0;32m   2977\u001b[0m \u001b[1;33m\u001b[0m\u001b[0m\n",
      "\u001b[1;31mFileNotFoundError\u001b[0m: [Errno 2] No such file or directory: 'C:\\\\Users\\\\user\\\\PycharmProjects\\\\flask_test\\\\test_files\\\\ILSVRC2012_val_00020379.JPEG'"
     ]
    }
   ],
   "source": [
    "n = r'C:\\Users\\user\\PycharmProjects\\flask_test\\test_files\\ILSVRC2012_val_00020379.JPEG'\n",
    "__count_score(img_path=n)"
   ]
  },
  {
   "cell_type": "code",
   "execution_count": null,
   "id": "85185606",
   "metadata": {},
   "outputs": [],
   "source": [
    "m = r'C:\\Users\\user\\PycharmProjects\\flask_test\\test_files\\rasteniya-lekarstva-dikie-derevya-01.jpg'\n",
    "__count_score(img_path=m)"
   ]
  },
  {
   "cell_type": "code",
   "execution_count": 12,
   "id": "6a65db5c",
   "metadata": {},
   "outputs": [
    {
     "data": {
      "text/plain": [
       "{'breed': 'Old English sheepdog'}"
      ]
     },
     "execution_count": 12,
     "metadata": {},
     "output_type": "execute_result"
    }
   ],
   "source": [
    "q = r'C:\\Users\\user\\PycharmProjects\\flask_test\\test_service\\test_files\\Buffy_dog.jpeg'\n",
    "__count_score(img_path=q)"
   ]
  },
  {
   "cell_type": "code",
   "execution_count": null,
   "id": "7af58f28",
   "metadata": {},
   "outputs": [],
   "source": []
  },
  {
   "cell_type": "code",
   "execution_count": null,
   "id": "83219b75",
   "metadata": {},
   "outputs": [],
   "source": []
  },
  {
   "cell_type": "code",
   "execution_count": null,
   "id": "d58aef87",
   "metadata": {},
   "outputs": [],
   "source": []
  },
  {
   "cell_type": "code",
   "execution_count": null,
   "id": "4e62a0e1",
   "metadata": {},
   "outputs": [],
   "source": []
  }
 ],
 "metadata": {
  "kernelspec": {
   "display_name": "Python 3",
   "language": "python",
   "name": "python3"
  },
  "language_info": {
   "codemirror_mode": {
    "name": "ipython",
    "version": 3
   },
   "file_extension": ".py",
   "mimetype": "text/x-python",
   "name": "python",
   "nbconvert_exporter": "python",
   "pygments_lexer": "ipython3",
   "version": "3.7.6"
  }
 },
 "nbformat": 4,
 "nbformat_minor": 5
}
